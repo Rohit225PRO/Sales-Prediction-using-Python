{
 "cells": [
  {
   "cell_type": "markdown",
   "metadata": {},
   "source": [
    "# 📈 Sales Prediction with Machine Learning\n",
    "\n",
    "Welcome to this state-of-the-art notebook on **Sales Prediction** using Python and Machine Learning. In this project, we will:\n",
    "\n",
    "- Explore and understand the advertising dataset.\n",
    "- Visualize the relationship between advertising spending and sales.\n",
    "- Build a predictive model using linear regression.\n",
    "- Evaluate and interpret the model's performance.\n",
    "\n",
    "Let's get started! 🚀"
   ]
  },
  {
   "cell_type": "code",
   "metadata": {},
   "source": [
    "# 📦 Import Required Libraries\n",
    "import pandas as pd\n",
    "import numpy as np\n",
    "import matplotlib.pyplot as plt\n",
    "import seaborn as sns\n",
    "from sklearn.model_selection import train_test_split\n",
    "from sklearn.linear_model import LinearRegression\n",
    "from sklearn.metrics import mean_absolute_error, mean_squared_error, r2_score\n",
    "\n",
    "sns.set(style=\"whitegrid\")  # For beautiful plots"
   ],
   "execution_count": 1,
   "outputs": []
  },
  {
   "cell_type": "markdown",
   "metadata": {},
   "source": [
    "## 📑 Load the Dataset\n",
    "\n",
    "We will use the `advertising.xls` file located in the same directory. This dataset includes information on advertising spending across various platforms and the resulting sales."
   ]
  },
  {
   "cell_type": "code",
   "metadata": {},
   "source": [
    "# 🔍 Load the dataset\n",
    "df = pd.read_excel(\"advertising.xls\")\n",
    "\n",
    "# Quick preview\n",
    "df.head()"
   ],
   "execution_count": 2,
   "outputs": []
  },
  {
   "cell_type": "markdown",
   "metadata": {},
   "source": [
    "## 🧹 Data Cleaning and Exploration\n",
    "\n",
    "Inspect the dataset for missing values, data types, and descriptive statistics."
   ]
  },
  {
   "cell_type": "code",
   "metadata": {},
   "source": [
    "# Dataset information\n",
    "df.info()\n",
    "\n",
    "# Check for missing values\n",
    "df.isnull().sum()\n",
    "\n",
    "# Descriptive statistics\n",
    "df.describe()"
   ],
   "execution_count": 3,
   "outputs": []
  },
  {
   "cell_type": "markdown",
   "metadata": {},
   "source": [
    "## 📊 Data Visualization\n",
    "\n",
    "Visualize the relationship between advertising spends (e.g. TV, Radio, Newspaper) and sales."
   ]
  },
  {
   "cell_type": "code",
   "metadata": {},
   "source": [
    "# Pairplot to visualize relationships\n",
    "sns.pairplot(df, x_vars=['TV', 'Radio', 'Newspaper'], y_vars='Sales', height=5, aspect=0.8, kind='scatter')\n",
    "plt.suptitle(\"Advertising Spend vs Sales\", fontsize=16)\n",
    "plt.show()\n",
    "\n",
    "# Correlation heatmap\n",
    "plt.figure(figsize=(8, 6))\n",
    "sns.heatmap(df.corr(), annot=True, cmap='coolwarm', linewidths=0.5)\n",
    "plt.title(\"Feature Correlations\")\n",
    "plt.show()"
   ],
   "execution_count": 4,
   "outputs": []
  },
  {
   "cell_type": "markdown",
   "metadata": {},
   "source": [
    "## 🛠️ Feature Selection\n",
    "\n",
    "Select relevant features and target variable."
   ]
  },
  {
   "cell_type": "code",
   "metadata": {},
   "source": [
    "# Select features and target\n",
    "X = df[['TV', 'Radio', 'Newspaper']]\n",
    "y = df['Sales']"
   ],
   "execution_count": 5,
   "outputs": []
  },
  {
   "cell_type": "markdown",
   "metadata": {},
   "source": [
    "## 🔥 Model Building\n",
    "\n",
    "We'll use a **Linear Regression** model to predict sales based on advertising spending."
   ]
  },
  {
   "cell_type": "code",
   "metadata": {},
   "source": [
    "# Split the dataset\n",
    "X_train, X_test, y_train, y_test = train_test_split(X, y, test_size=0.2, random_state=42)\n",
    "\n",
    "# Initialize the model\n",
    "lr_model = LinearRegression()\n",
    "\n",
    "# Train the model\n",
    "lr_model.fit(X_train, y_train)"
   ],
   "execution_count": 6,
   "outputs": []
  },
  {
   "cell_type": "markdown",
   "metadata": {},
   "source": [
    "## 📈 Model Evaluation\n",
    "\n",
    "Let's evaluate the model using key metrics like MAE, RMSE, and R²."
   ]
  },
  {
   "cell_type": "code",
   "metadata": {},
   "source": [
    "# Predict on test set\n",
    "y_pred = lr_model.predict(X_test)\n",
    "\n",
    "# Evaluation metrics\n",
    "mae = mean_absolute_error(y_test, y_pred)\n",
    "mse = mean_squared_error(y_test, y_pred)\n",
    "rmse = np.sqrt(mse)\n",
    "r2 = r2_score(y_test, y_pred)\n",
    "\n",
    "print(f\"Mean Absolute Error (MAE): {mae:.2f}\")\n",
    "print(f\"Root Mean Squared Error (RMSE): {rmse:.2f}\")\n",
    "print(f\"R² Score: {r2:.2f}\")"
   ],
   "execution_count": 7,
   "outputs": []
  },
  {
   "cell_type": "markdown",
   "metadata": {},
   "source": [
    "## 📝 Conclusion\n",
    "\n",
    "In this project, we built a **sales prediction model** using linear regression. We:\n",
    "\n",
    "- Explored and visualized the dataset.\n",
    "- Built and trained a linear regression model.\n",
    "- Evaluated the model using key performance metrics.\n",
    "\n",
    "This workflow can be extended to include:\n",
    "- Polynomial regression or advanced models (e.g. Random Forest, XGBoost).\n",
    "- Feature engineering (e.g. interaction terms).\n",
    "- Deployment as a web application for real-time sales predictions.\n",
    "\n",
    "Happy Learning! 🚀"
   ]
  }
 ],
 "metadata": {
  "kernelspec": {
   "display_name": "Python 3",
   "language": "python",
   "name": "python3"
  },
  "language_info": {
   "name": "python",
   "version": "3.9.17"
  }
 },
 "nbformat": 4,
 "nbformat_minor": 5
}
